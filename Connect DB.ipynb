{
 "cells": [
  {
   "cell_type": "code",
   "execution_count": 1,
   "metadata": {},
   "outputs": [],
   "source": [
    "# To install the official MySQL Connector for Python, please use the name mysql-connector-python:\n",
    "# pip install mysql-connector-python\n",
    "import mysql.connector\n",
    "import datetime\n",
    "import pandas as pd"
   ]
  },
  {
   "cell_type": "code",
   "execution_count": 2,
   "metadata": {},
   "outputs": [],
   "source": [
    "db_connection = mysql.connector.connect(user='scott', password='tiger',\n",
    "                                        host='127.0.0.1',\n",
    "                                        database='saa',\n",
    "                                        use_pure=False)"
   ]
  },
  {
   "cell_type": "code",
   "execution_count": null,
   "metadata": {},
   "outputs": [],
   "source": [
    "# df = pd.read_sql('SELECT * FROM Full', con=db_connection)\n",
    "cols = ['doi', 'is_oa']\n",
    "df = pd.read_csv(r'/data/unpaywall_snapshot_2018-09-24T232615.csv', usecols = cols)"
   ]
  },
  {
   "cell_type": "code",
   "execution_count": 5,
   "metadata": {},
   "outputs": [
    {
     "ename": "NameError",
     "evalue": "name 'df' is not defined",
     "output_type": "error",
     "traceback": [
      "\u001b[0;31m---------------------------------------------------------------------------\u001b[0m",
      "\u001b[0;31mNameError\u001b[0m                                 Traceback (most recent call last)",
      "\u001b[0;32m<ipython-input-5-00cf07b74dcd>\u001b[0m in \u001b[0;36m<module>\u001b[0;34m\u001b[0m\n\u001b[0;32m----> 1\u001b[0;31m \u001b[0mdf\u001b[0m\u001b[0;34m\u001b[0m\u001b[0;34m\u001b[0m\u001b[0m\n\u001b[0m",
      "\u001b[0;31mNameError\u001b[0m: name 'df' is not defined"
     ]
    }
   ],
   "source": [
    "df"
   ]
  },
  {
   "cell_type": "code",
   "execution_count": 2,
   "metadata": {},
   "outputs": [],
   "source": [
    "cnx = mysql.connector.connect(user='scott', password='tiger',\n",
    "                              host='127.0.0.1',\n",
    "                              database='saa',\n",
    "                              use_pure=False)\n",
    "cursor = cnx.cursor()"
   ]
  },
  {
   "cell_type": "code",
   "execution_count": 4,
   "metadata": {},
   "outputs": [],
   "source": [
    "# query = (\"SELECT doi, is_oa FROM Snapshot100\")\n",
    "# cursor.execute(query)"
   ]
  },
  {
   "cell_type": "code",
   "execution_count": 35,
   "metadata": {},
   "outputs": [
    {
     "name": "stdout",
     "output_type": "stream",
     "text": [
      "SELECT doi, is_oa FROM Snapshot100 WHERE doi IN ('10.1080/21645515.2017.1330236', '10.1088/0004-6256/135/4/1201')\n"
     ]
    }
   ],
   "source": [
    "query = (\"SELECT doi, is_oa FROM Snapshot100 \"\n",
    "         \"WHERE doi IN ('10.1080/21645515.2017.1330236', '10.1088/0004-6256/135/4/1201')\")\n",
    "print(query)\n",
    "cursor.execute(query)"
   ]
  },
  {
   "cell_type": "code",
   "execution_count": 9,
   "metadata": {},
   "outputs": [
    {
     "name": "stdout",
     "output_type": "stream",
     "text": [
      "10.1080/21645515.2017.1330236 True\n",
      "10.1088/0004-6256/135/4/1201 True\n"
     ]
    }
   ],
   "source": [
    "for (doi, is_oa) in cursor:\n",
    "    print(doi, is_oa)"
   ]
  },
  {
   "cell_type": "code",
   "execution_count": 4,
   "metadata": {},
   "outputs": [
    {
     "name": "stdout",
     "output_type": "stream",
     "text": [
      "Start Time: 2019-03-18 21:23:31.290047\n",
      "Finish Time: 2019-03-18 21:24:49.544944\n"
     ]
    }
   ],
   "source": [
    "print ('Start Time: ' + str(datetime.datetime.now()))\n",
    "query = (\"SELECT doi, is_oa FROM Full \"\n",
    "        \"WHERE doi IN ('10.1080/21645515.2017.1330236', '10.1088/0004-6256/135/4/1201')\")\n",
    "cursor.execute(query)\n",
    "print ('Finish Time: ' + str(datetime.datetime.now()))"
   ]
  },
  {
   "cell_type": "code",
   "execution_count": 5,
   "metadata": {},
   "outputs": [
    {
     "name": "stdout",
     "output_type": "stream",
     "text": [
      "('10.1080/21645515.2017.1330236', 'True')\n",
      "('10.1088/0004-6256/135/4/1201', 'True')\n"
     ]
    }
   ],
   "source": [
    "result_set = cursor.fetchall()\n",
    "for row in result_set:\n",
    "    print(row)"
   ]
  },
  {
   "cell_type": "code",
   "execution_count": 3,
   "metadata": {},
   "outputs": [],
   "source": [
    "sils_doi = ['10.1145/3173574.3173935',\n",
    "            '10.1108/ILS-06-2018-0049',\n",
    "            '10.1016/j.lisr.2017.03.001',\n",
    "            '10.1007/s10803-017-3127-z',\n",
    "            '10.1145/2854946.2854979',\n",
    "            '10.1016/j.envsoft.2015.12.010',\n",
    "            '10.1177%2F2053951715608877',\n",
    "            '10.2218/ijdc.v10i1.352',\n",
    "            '10.1145/3209624',\n",
    "            '10.1016/j.lisr.2017.03.005',\n",
    "            '10.1109/TVCG.2018.2864885',\n",
    "            '10.1177%2F016555150202800601',\n",
    "            '10.1109/TMM.2016.2614220',\n",
    "            '10.1353/at.2006.0012',\n",
    "            '10.1007/s10900-018-0547-4',\n",
    "            '10.1108/JD-03-2016-0030',\n",
    "            '10.1145/2998181.2998204',\n",
    "            '10.1145/3209280.3209530',\n",
    "            '10.1080/10447318.2017.1365459',\n",
    "            '10.1145/3204461',\n",
    "            '10.1002/asi.23124',\n",
    "            '10.1002/asi.23839',\n",
    "            '10.3389/fncom.2012.00019'\n",
    "            '10.5210/ojphi.v6i2.5469',\n",
    "            '10.1093/jamia/ocy013',\n",
    "            '10.1108/JD-06-2017-0095',\n",
    "            '10.1016/j.ijinfomgt.2018.07.004']"
   ]
  },
  {
   "cell_type": "code",
   "execution_count": 4,
   "metadata": {},
   "outputs": [
    {
     "name": "stdout",
     "output_type": "stream",
     "text": [
      "10.1145/3173574.3173935','10.1108/ILS-06-2018-0049','10.1016/j.lisr.2017.03.001','10.1007/s10803-017-3127-z','10.1145/2854946.2854979','10.1016/j.envsoft.2015.12.010','10.1177%2F2053951715608877','10.2218/ijdc.v10i1.352','10.1145/3209624','10.1016/j.lisr.2017.03.005','10.1109/TVCG.2018.2864885','10.1177%2F016555150202800601','10.1109/TMM.2016.2614220','10.1353/at.2006.0012','10.1007/s10900-018-0547-4','10.1108/JD-03-2016-0030','10.1145/2998181.2998204','10.1145/3209280.3209530','10.1080/10447318.2017.1365459','10.1145/3204461','10.1002/asi.23124','10.1002/asi.23839','10.3389/fncom.2012.0001910.5210/ojphi.v6i2.5469','10.1093/jamia/ocy013','10.1108/JD-06-2017-0095','10.1016/j.ijinfomgt.2018.07.004\n"
     ]
    }
   ],
   "source": [
    "str1 = '\\',\\''.join(sils_doi)\n",
    "print (str1)"
   ]
  },
  {
   "cell_type": "code",
   "execution_count": 44,
   "metadata": {},
   "outputs": [
    {
     "name": "stdout",
     "output_type": "stream",
     "text": [
      "SELECT doi, is_oa FROM Snapshot100 WHERE doi IN ('10.1145/3173574.3173935','10.1108/ILS-06-2018-0049','10.1016/j.lisr.2017.03.001','10.1007/s10803-017-3127-z','10.1145/2854946.2854979','10.1016/j.envsoft.2015.12.010','10.1177%2F2053951715608877','10.2218/ijdc.v10i1.352','10.1145/3209624','10.1016/j.lisr.2017.03.005','10.1109/TVCG.2018.2864885','10.1177%2F016555150202800601','10.1109/TMM.2016.2614220','10.1353/at.2006.0012','10.1007/s10900-018-0547-4','10.1108/JD-03-2016-0030','10.1145/2998181.2998204','10.1145/3209280.3209530','10.1080/10447318.2017.1365459','10.1145/3204461','10.1002/asi.23124','10.1002/asi.23839','10.3389/fncom.2012.0001910.5210/ojphi.v6i2.5469','10.1093/jamia/ocy013','10.1108/JD-06-2017-0095','10.1016/j.ijinfomgt.2018.07.004')\n"
     ]
    }
   ],
   "source": [
    "query = (\"SELECT doi, is_oa FROM Snapshot100 \"\n",
    "        \"WHERE doi IN (\\'{}\\')\").format(str1)\n",
    "print (query)\n",
    "cursor.execute(query)"
   ]
  },
  {
   "cell_type": "code",
   "execution_count": 5,
   "metadata": {},
   "outputs": [
    {
     "name": "stdout",
     "output_type": "stream",
     "text": [
      "Start Time: 2019-03-22 10:43:39.716006\n",
      "Finish Time: 2019-03-22 10:43:39.728706\n"
     ]
    }
   ],
   "source": [
    "print ('Start Time: ' + str(datetime.datetime.now()))\n",
    "query = (\"SELECT doi, is_oa FROM tmp \"\n",
    "        \"WHERE doi IN (\\'{}\\')\").format(str1)\n",
    "cursor.execute(query)\n",
    "print ('Finish Time: ' + str(datetime.datetime.now()))"
   ]
  },
  {
   "cell_type": "code",
   "execution_count": 6,
   "metadata": {},
   "outputs": [
    {
     "name": "stdout",
     "output_type": "stream",
     "text": [
      "('10.1002/asi.23124', 'False')\n",
      "('10.1002/asi.23839', 'True')\n",
      "('10.1007/s10803-017-3127-z', 'False')\n",
      "('10.1007/s10900-018-0547-4', 'False')\n",
      "('10.1016/j.envsoft.2015.12.010', 'True')\n",
      "('10.1016/j.ijinfomgt.2018.07.004', 'False')\n",
      "('10.1016/j.lisr.2017.03.001', 'False')\n",
      "('10.1016/j.lisr.2017.03.005', 'False')\n",
      "('10.1080/10447318.2017.1365459', 'False')\n",
      "('10.1093/jamia/ocy013', 'True')\n",
      "('10.1108/jd-03-2016-0030', 'False')\n",
      "('10.1108/jd-06-2017-0095', 'False')\n",
      "('10.1109/tmm.2016.2614220', 'True')\n",
      "('10.1109/tvcg.2018.2864885', 'False')\n",
      "('10.1145/2854946.2854979', 'True')\n",
      "('10.1145/2998181.2998204', 'False')\n",
      "('10.1145/3173574.3173935', 'True')\n",
      "('10.1145/3204461', 'False')\n",
      "('10.1353/at.2006.0012', 'False')\n",
      "('10.2218/ijdc.v10i1.352', 'True')\n"
     ]
    }
   ],
   "source": [
    "result_set = cursor.fetchall()\n",
    "for row in result_set:\n",
    "    print(row)"
   ]
  },
  {
   "cell_type": "code",
   "execution_count": null,
   "metadata": {},
   "outputs": [],
   "source": [
    "\n"
   ]
  }
 ],
 "metadata": {
  "kernelspec": {
   "display_name": "Python 3",
   "language": "python",
   "name": "python3"
  },
  "language_info": {
   "codemirror_mode": {
    "name": "ipython",
    "version": 3
   },
   "file_extension": ".py",
   "mimetype": "text/x-python",
   "name": "python",
   "nbconvert_exporter": "python",
   "pygments_lexer": "ipython3",
   "version": "3.7.1"
  }
 },
 "nbformat": 4,
 "nbformat_minor": 2
}
