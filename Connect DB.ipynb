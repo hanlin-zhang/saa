{
 "cells": [
  {
   "cell_type": "code",
   "execution_count": 68,
   "metadata": {},
   "outputs": [],
   "source": [
    "# To install the official MySQL Connector for Python, please use the name mysql-connector-python:\n",
    "# pip install mysql-connector-python\n",
    "import mysql.connector\n",
    "import datetime\n",
    "import pandas as pd\n",
    "import numpy as np"
   ]
  },
  {
   "cell_type": "code",
   "execution_count": 125,
   "metadata": {},
   "outputs": [
    {
     "data": {
      "text/html": [
       "<div>\n",
       "<style scoped>\n",
       "    .dataframe tbody tr th:only-of-type {\n",
       "        vertical-align: middle;\n",
       "    }\n",
       "\n",
       "    .dataframe tbody tr th {\n",
       "        vertical-align: top;\n",
       "    }\n",
       "\n",
       "    .dataframe thead th {\n",
       "        text-align: right;\n",
       "    }\n",
       "</style>\n",
       "<table border=\"1\" class=\"dataframe\">\n",
       "  <thead>\n",
       "    <tr style=\"text-align: right;\">\n",
       "      <th></th>\n",
       "      <th>doi</th>\n",
       "      <th>title</th>\n",
       "      <th>author</th>\n",
       "      <th>year_published</th>\n",
       "      <th>field of study</th>\n",
       "      <th>is_oa</th>\n",
       "    </tr>\n",
       "  </thead>\n",
       "  <tbody>\n",
       "    <tr>\n",
       "      <th>0</th>\n",
       "      <td>10.3842/SIGMA.2012.016</td>\n",
       "      <td>Introduction to loop quantum cosmology\\r\\n</td>\n",
       "      <td>Banerjee, K., Calcagni, G., &amp; Martín-Benito, M.</td>\n",
       "      <td>2010</td>\n",
       "      <td>Physics</td>\n",
       "      <td>1</td>\n",
       "    </tr>\n",
       "    <tr>\n",
       "      <th>1</th>\n",
       "      <td>10.1016/j.physrep.2012.01.001</td>\n",
       "      <td>Modified gravity and cosmology</td>\n",
       "      <td>Clifton, T., Ferreira, P. G., Padilla, A., &amp; S...</td>\n",
       "      <td>2012</td>\n",
       "      <td>Physics</td>\n",
       "      <td>1</td>\n",
       "    </tr>\n",
       "    <tr>\n",
       "      <th>2</th>\n",
       "      <td>10.1146/annurev-astro-081811-125615</td>\n",
       "      <td>Cosmic star-formation history</td>\n",
       "      <td>Madau, P., &amp; Dickinson, M.</td>\n",
       "      <td>2014</td>\n",
       "      <td>Physics</td>\n",
       "      <td>1</td>\n",
       "    </tr>\n",
       "    <tr>\n",
       "      <th>3</th>\n",
       "      <td>10.1016/j.physletb.2008.07.018</td>\n",
       "      <td>Review of Particle Physics\\r\\n</td>\n",
       "      <td>C. Amsler, M. Doser, M. Antonelli, D. M. Asner...</td>\n",
       "      <td>2008</td>\n",
       "      <td>Physics</td>\n",
       "      <td>1</td>\n",
       "    </tr>\n",
       "    <tr>\n",
       "      <th>4</th>\n",
       "      <td>10.1126/science.1202043</td>\n",
       "      <td>Improved Learning in a Large-Enrollment Physic...</td>\n",
       "      <td>Deslauriers, L., Schelew, E., &amp; Wieman, C.</td>\n",
       "      <td>2011</td>\n",
       "      <td>Physics</td>\n",
       "      <td>1</td>\n",
       "    </tr>\n",
       "  </tbody>\n",
       "</table>\n",
       "</div>"
      ],
      "text/plain": [
       "                                   doi  \\\n",
       "0               10.3842/SIGMA.2012.016   \n",
       "1        10.1016/j.physrep.2012.01.001   \n",
       "2  10.1146/annurev-astro-081811-125615   \n",
       "3       10.1016/j.physletb.2008.07.018   \n",
       "4              10.1126/science.1202043   \n",
       "\n",
       "                                               title  \\\n",
       "0         Introduction to loop quantum cosmology\\r\\n   \n",
       "1                     Modified gravity and cosmology   \n",
       "2                      Cosmic star-formation history   \n",
       "3                     Review of Particle Physics\\r\\n   \n",
       "4  Improved Learning in a Large-Enrollment Physic...   \n",
       "\n",
       "                                              author  year_published  \\\n",
       "0    Banerjee, K., Calcagni, G., & Martín-Benito, M.            2010   \n",
       "1  Clifton, T., Ferreira, P. G., Padilla, A., & S...            2012   \n",
       "2                         Madau, P., & Dickinson, M.            2014   \n",
       "3  C. Amsler, M. Doser, M. Antonelli, D. M. Asner...            2008   \n",
       "4         Deslauriers, L., Schelew, E., & Wieman, C.            2011   \n",
       "\n",
       "  field of study  is_oa  \n",
       "0        Physics      1  \n",
       "1        Physics      1  \n",
       "2        Physics      1  \n",
       "3        Physics      1  \n",
       "4        Physics      1  "
      ]
     },
     "execution_count": 125,
     "metadata": {},
     "output_type": "execute_result"
    }
   ],
   "source": [
    "df = pd.read_csv('atricle_sampler.csv')\n",
    "df.head()"
   ]
  },
  {
   "cell_type": "code",
   "execution_count": 12,
   "metadata": {},
   "outputs": [],
   "source": [
    "cnx = mysql.connector.connect(user='scott', password='tiger',\n",
    "                              host='127.0.0.1',\n",
    "                              database='saa',\n",
    "                              use_pure=False)\n",
    "cursor = cnx.cursor()"
   ]
  },
  {
   "cell_type": "code",
   "execution_count": 16,
   "metadata": {},
   "outputs": [
    {
     "data": {
      "text/plain": [
       "\"10.3842/SIGMA.2012.016','10.1016/j.physrep.2012.01.001','10.1146/annurev-astro-081811-125615','10.1016/j.physletb.2008.07.018','10.1126/science.1202043','10.1140/epjc/s10052-016-4099-4','10.1016/j.aop.2005.04.002','10.1103/PhysRevLett.94.111601','10.1143/PTPS.183.1','10.1143/PTP.113.843','10.1371/journal.pone.0064841','10.1108/jd-03-2016-0030','10.1007/s10900-018-0547-4','10.1016/j.ijinfomgt.2018.07.004','10.1016/j.lisr.2017.03.001','10.1016/j.lisr.2017.03.005','10.1002/asi.23124','10.1145/2998181.2998204','10.1108/jd-06-2017-0095','10.1080/10447318.2017.1365459','10.1177/1464884905056815','10.1177/1464884903004001484','10.1080/1461670X.2011.571825','10.1080/17512780802281065','10.1080/17512786.2012.667269','10.1207/s15506878jobem4604_3','10.1177/1461444809341393','10.1177/0016549205057564','10.1080/14616700500533643','10.1080/14616700118394','10.3390/ijerph14091002','10.1097/PHH.0000000000000347','10.11604/pamj.supp.2017.27.1.12570','10.1093/pubmed/fdw130.','10.24095/hpcdp.38.7/8.02.','10.1016/j.puhe.2015.10.027','10.1016/j.epidem.2014.08.008','10.1186/s40504-018-0071-4','10.1111/j.1475-6773.2009.01011.x.Ê','10.1186/1471-2458-12-141','10.1145/505282.505283','10.3115/1118693.1118704','10.1145/330908.331819','10.1109/2.982917','10.1109/ICSE.2005.1553534','10.2753/MIS0742-1222240302','10.1177/003172171309500111','10.1145/985692.985733','10.1109/POLICY.2004.1309145','10.1016/j.ejor.2009.08.003\""
      ]
     },
     "execution_count": 16,
     "metadata": {},
     "output_type": "execute_result"
    }
   ],
   "source": [
    "doi50 ='\\',\\''.join(df.doi)\n",
    "doi50"
   ]
  },
  {
   "cell_type": "code",
   "execution_count": 19,
   "metadata": {},
   "outputs": [
    {
     "name": "stdout",
     "output_type": "stream",
     "text": [
      "SELECT doi, is_oa FROM tmp WHERE doi IN ('10.3842/SIGMA.2012.016','10.1016/j.physrep.2012.01.001','10.1146/annurev-astro-081811-125615','10.1016/j.physletb.2008.07.018','10.1126/science.1202043','10.1140/epjc/s10052-016-4099-4','10.1016/j.aop.2005.04.002','10.1103/PhysRevLett.94.111601','10.1143/PTPS.183.1','10.1143/PTP.113.843','10.1371/journal.pone.0064841','10.1108/jd-03-2016-0030','10.1007/s10900-018-0547-4','10.1016/j.ijinfomgt.2018.07.004','10.1016/j.lisr.2017.03.001','10.1016/j.lisr.2017.03.005','10.1002/asi.23124','10.1145/2998181.2998204','10.1108/jd-06-2017-0095','10.1080/10447318.2017.1365459','10.1177/1464884905056815','10.1177/1464884903004001484','10.1080/1461670X.2011.571825','10.1080/17512780802281065','10.1080/17512786.2012.667269','10.1207/s15506878jobem4604_3','10.1177/1461444809341393','10.1177/0016549205057564','10.1080/14616700500533643','10.1080/14616700118394','10.3390/ijerph14091002','10.1097/PHH.0000000000000347','10.11604/pamj.supp.2017.27.1.12570','10.1093/pubmed/fdw130.','10.24095/hpcdp.38.7/8.02.','10.1016/j.puhe.2015.10.027','10.1016/j.epidem.2014.08.008','10.1186/s40504-018-0071-4','10.1111/j.1475-6773.2009.01011.x.Ê','10.1186/1471-2458-12-141','10.1145/505282.505283','10.3115/1118693.1118704','10.1145/330908.331819','10.1109/2.982917','10.1109/ICSE.2005.1553534','10.2753/MIS0742-1222240302','10.1177/003172171309500111','10.1145/985692.985733','10.1109/POLICY.2004.1309145','10.1016/j.ejor.2009.08.003')\n"
     ]
    }
   ],
   "source": [
    "query = (\"SELECT doi, is_oa FROM tmp \"\n",
    "        \"WHERE doi IN (\\'{}\\')\").format(doi50)\n",
    "print (query)"
   ]
  },
  {
   "cell_type": "code",
   "execution_count": 61,
   "metadata": {},
   "outputs": [
    {
     "data": {
      "text/plain": [
       "39"
      ]
     },
     "execution_count": 61,
     "metadata": {},
     "output_type": "execute_result"
    }
   ],
   "source": [
    "cursor.execute(query)\n",
    "query_result = {}\n",
    "for (doi, is_oa) in cursor:\n",
    "    if is_oa == 'False':\n",
    "        query_result[doi] = 0\n",
    "    else:\n",
    "        query_result[doi] = 1\n",
    "len(query_result)"
   ]
  },
  {
   "cell_type": "code",
   "execution_count": 113,
   "metadata": {},
   "outputs": [
    {
     "data": {
      "text/html": [
       "<div>\n",
       "<style scoped>\n",
       "    .dataframe tbody tr th:only-of-type {\n",
       "        vertical-align: middle;\n",
       "    }\n",
       "\n",
       "    .dataframe tbody tr th {\n",
       "        vertical-align: top;\n",
       "    }\n",
       "\n",
       "    .dataframe thead th {\n",
       "        text-align: right;\n",
       "    }\n",
       "</style>\n",
       "<table border=\"1\" class=\"dataframe\">\n",
       "  <thead>\n",
       "    <tr style=\"text-align: right;\">\n",
       "      <th></th>\n",
       "      <th>doi</th>\n",
       "      <th>upw_oa</th>\n",
       "    </tr>\n",
       "  </thead>\n",
       "  <tbody>\n",
       "    <tr>\n",
       "      <th>0</th>\n",
       "      <td>10.1002/asi.23124</td>\n",
       "      <td>0</td>\n",
       "    </tr>\n",
       "    <tr>\n",
       "      <th>1</th>\n",
       "      <td>10.1007/s10900-018-0547-4</td>\n",
       "      <td>0</td>\n",
       "    </tr>\n",
       "    <tr>\n",
       "      <th>2</th>\n",
       "      <td>10.1016/j.aop.2005.04.002</td>\n",
       "      <td>1</td>\n",
       "    </tr>\n",
       "    <tr>\n",
       "      <th>3</th>\n",
       "      <td>10.1016/j.ejor.2009.08.003</td>\n",
       "      <td>0</td>\n",
       "    </tr>\n",
       "    <tr>\n",
       "      <th>4</th>\n",
       "      <td>10.1016/j.epidem.2014.08.008</td>\n",
       "      <td>1</td>\n",
       "    </tr>\n",
       "  </tbody>\n",
       "</table>\n",
       "</div>"
      ],
      "text/plain": [
       "                            doi  upw_oa\n",
       "0             10.1002/asi.23124       0\n",
       "1     10.1007/s10900-018-0547-4       0\n",
       "2     10.1016/j.aop.2005.04.002       1\n",
       "3    10.1016/j.ejor.2009.08.003       0\n",
       "4  10.1016/j.epidem.2014.08.008       1"
      ]
     },
     "execution_count": 113,
     "metadata": {},
     "output_type": "execute_result"
    }
   ],
   "source": [
    "df_2 = pd.DataFrame([ (key, value) for key, value in query_result.items()],\n",
    "                    columns=['doi','upw_oa'])\n",
    "df_2.upw_oa = df_2.upw_oa.astype(int)\n",
    "df_2.head()"
   ]
  },
  {
   "cell_type": "code",
   "execution_count": 117,
   "metadata": {},
   "outputs": [
    {
     "data": {
      "text/html": [
       "<div>\n",
       "<style scoped>\n",
       "    .dataframe tbody tr th:only-of-type {\n",
       "        vertical-align: middle;\n",
       "    }\n",
       "\n",
       "    .dataframe tbody tr th {\n",
       "        vertical-align: top;\n",
       "    }\n",
       "\n",
       "    .dataframe thead th {\n",
       "        text-align: right;\n",
       "    }\n",
       "</style>\n",
       "<table border=\"1\" class=\"dataframe\">\n",
       "  <thead>\n",
       "    <tr style=\"text-align: right;\">\n",
       "      <th></th>\n",
       "      <th>doi</th>\n",
       "      <th>field of study</th>\n",
       "      <th>is_oa</th>\n",
       "      <th>upw_oa</th>\n",
       "    </tr>\n",
       "  </thead>\n",
       "  <tbody>\n",
       "    <tr>\n",
       "      <th>0</th>\n",
       "      <td>10.1016/j.physrep.2012.01.001</td>\n",
       "      <td>Physics</td>\n",
       "      <td>1</td>\n",
       "      <td>1</td>\n",
       "    </tr>\n",
       "    <tr>\n",
       "      <th>1</th>\n",
       "      <td>10.1146/annurev-astro-081811-125615</td>\n",
       "      <td>Physics</td>\n",
       "      <td>1</td>\n",
       "      <td>1</td>\n",
       "    </tr>\n",
       "    <tr>\n",
       "      <th>2</th>\n",
       "      <td>10.1126/science.1202043</td>\n",
       "      <td>Physics</td>\n",
       "      <td>1</td>\n",
       "      <td>1</td>\n",
       "    </tr>\n",
       "    <tr>\n",
       "      <th>3</th>\n",
       "      <td>10.1140/epjc/s10052-016-4099-4</td>\n",
       "      <td>Physics</td>\n",
       "      <td>1</td>\n",
       "      <td>1</td>\n",
       "    </tr>\n",
       "    <tr>\n",
       "      <th>4</th>\n",
       "      <td>10.1016/j.aop.2005.04.002</td>\n",
       "      <td>Physics</td>\n",
       "      <td>1</td>\n",
       "      <td>1</td>\n",
       "    </tr>\n",
       "  </tbody>\n",
       "</table>\n",
       "</div>"
      ],
      "text/plain": [
       "                                   doi field of study  is_oa  upw_oa\n",
       "0        10.1016/j.physrep.2012.01.001        Physics      1       1\n",
       "1  10.1146/annurev-astro-081811-125615        Physics      1       1\n",
       "2              10.1126/science.1202043        Physics      1       1\n",
       "3       10.1140/epjc/s10052-016-4099-4        Physics      1       1\n",
       "4            10.1016/j.aop.2005.04.002        Physics      1       1"
      ]
     },
     "execution_count": 117,
     "metadata": {},
     "output_type": "execute_result"
    }
   ],
   "source": [
    "df.is_oa = df.is_oa.astype(int)\n",
    "df_result = pd.merge(df[['doi', 'field of study', 'is_oa']], df_2,\n",
    "                     left_on='doi', right_on='doi')\n",
    "df_result.head()"
   ]
  },
  {
   "cell_type": "code",
   "execution_count": 119,
   "metadata": {},
   "outputs": [
    {
     "data": {
      "text/html": [
       "<div>\n",
       "<style scoped>\n",
       "    .dataframe tbody tr th:only-of-type {\n",
       "        vertical-align: middle;\n",
       "    }\n",
       "\n",
       "    .dataframe tbody tr th {\n",
       "        vertical-align: top;\n",
       "    }\n",
       "\n",
       "    .dataframe thead th {\n",
       "        text-align: right;\n",
       "    }\n",
       "</style>\n",
       "<table border=\"1\" class=\"dataframe\">\n",
       "  <thead>\n",
       "    <tr style=\"text-align: right;\">\n",
       "      <th></th>\n",
       "      <th>doi</th>\n",
       "      <th>field of study</th>\n",
       "      <th>is_oa</th>\n",
       "      <th>upw_oa</th>\n",
       "      <th>is_same</th>\n",
       "    </tr>\n",
       "  </thead>\n",
       "  <tbody>\n",
       "    <tr>\n",
       "      <th>0</th>\n",
       "      <td>10.1016/j.physrep.2012.01.001</td>\n",
       "      <td>Physics</td>\n",
       "      <td>1</td>\n",
       "      <td>1</td>\n",
       "      <td>1</td>\n",
       "    </tr>\n",
       "    <tr>\n",
       "      <th>1</th>\n",
       "      <td>10.1146/annurev-astro-081811-125615</td>\n",
       "      <td>Physics</td>\n",
       "      <td>1</td>\n",
       "      <td>1</td>\n",
       "      <td>1</td>\n",
       "    </tr>\n",
       "    <tr>\n",
       "      <th>2</th>\n",
       "      <td>10.1126/science.1202043</td>\n",
       "      <td>Physics</td>\n",
       "      <td>1</td>\n",
       "      <td>1</td>\n",
       "      <td>1</td>\n",
       "    </tr>\n",
       "    <tr>\n",
       "      <th>3</th>\n",
       "      <td>10.1140/epjc/s10052-016-4099-4</td>\n",
       "      <td>Physics</td>\n",
       "      <td>1</td>\n",
       "      <td>1</td>\n",
       "      <td>1</td>\n",
       "    </tr>\n",
       "    <tr>\n",
       "      <th>4</th>\n",
       "      <td>10.1016/j.aop.2005.04.002</td>\n",
       "      <td>Physics</td>\n",
       "      <td>1</td>\n",
       "      <td>1</td>\n",
       "      <td>1</td>\n",
       "    </tr>\n",
       "  </tbody>\n",
       "</table>\n",
       "</div>"
      ],
      "text/plain": [
       "                                   doi field of study  is_oa  upw_oa  is_same\n",
       "0        10.1016/j.physrep.2012.01.001        Physics      1       1        1\n",
       "1  10.1146/annurev-astro-081811-125615        Physics      1       1        1\n",
       "2              10.1126/science.1202043        Physics      1       1        1\n",
       "3       10.1140/epjc/s10052-016-4099-4        Physics      1       1        1\n",
       "4            10.1016/j.aop.2005.04.002        Physics      1       1        1"
      ]
     },
     "execution_count": 119,
     "metadata": {},
     "output_type": "execute_result"
    }
   ],
   "source": [
    "df_result['is_same'] = df_result.apply(lambda x : 0 if x['is_oa'] != x['upw_oa'] else 1, axis=1)\n",
    "df_result.head()"
   ]
  },
  {
   "cell_type": "code",
   "execution_count": 121,
   "metadata": {},
   "outputs": [
    {
     "data": {
      "text/html": [
       "<div>\n",
       "<style scoped>\n",
       "    .dataframe tbody tr th:only-of-type {\n",
       "        vertical-align: middle;\n",
       "    }\n",
       "\n",
       "    .dataframe tbody tr th {\n",
       "        vertical-align: top;\n",
       "    }\n",
       "\n",
       "    .dataframe thead th {\n",
       "        text-align: right;\n",
       "    }\n",
       "</style>\n",
       "<table border=\"1\" class=\"dataframe\">\n",
       "  <thead>\n",
       "    <tr style=\"text-align: right;\">\n",
       "      <th></th>\n",
       "      <th>doi</th>\n",
       "      <th>field of study</th>\n",
       "      <th>is_oa</th>\n",
       "      <th>upw_oa</th>\n",
       "    </tr>\n",
       "    <tr>\n",
       "      <th>is_same</th>\n",
       "      <th></th>\n",
       "      <th></th>\n",
       "      <th></th>\n",
       "      <th></th>\n",
       "    </tr>\n",
       "  </thead>\n",
       "  <tbody>\n",
       "    <tr>\n",
       "      <th>0</th>\n",
       "      <td>14</td>\n",
       "      <td>14</td>\n",
       "      <td>14</td>\n",
       "      <td>14</td>\n",
       "    </tr>\n",
       "    <tr>\n",
       "      <th>1</th>\n",
       "      <td>19</td>\n",
       "      <td>19</td>\n",
       "      <td>19</td>\n",
       "      <td>19</td>\n",
       "    </tr>\n",
       "  </tbody>\n",
       "</table>\n",
       "</div>"
      ],
      "text/plain": [
       "         doi  field of study  is_oa  upw_oa\n",
       "is_same                                    \n",
       "0         14              14     14      14\n",
       "1         19              19     19      19"
      ]
     },
     "execution_count": 121,
     "metadata": {},
     "output_type": "execute_result"
    }
   ],
   "source": [
    "df_result.groupby('is_same').count()"
   ]
  },
  {
   "cell_type": "code",
   "execution_count": 124,
   "metadata": {
    "scrolled": true
   },
   "outputs": [
    {
     "data": {
      "text/plain": [
       "0.4375"
      ]
     },
     "execution_count": 124,
     "metadata": {},
     "output_type": "execute_result"
    }
   ],
   "source": [
    "14/32 "
   ]
  },
  {
   "cell_type": "code",
   "execution_count": 4,
   "metadata": {},
   "outputs": [
    {
     "name": "stdout",
     "output_type": "stream",
     "text": [
      "Start Time: 2019-03-18 21:23:31.290047\n",
      "Finish Time: 2019-03-18 21:24:49.544944\n"
     ]
    }
   ],
   "source": [
    "print ('Start Time: ' + str(datetime.datetime.now()))\n",
    "query = (\"SELECT doi, is_oa FROM Full \"\n",
    "        \"WHERE doi IN ('10.1080/21645515.2017.1330236', '10.1088/0004-6256/135/4/1201')\")\n",
    "cursor.execute(query)\n",
    "print ('Finish Time: ' + str(datetime.datetime.now()))"
   ]
  },
  {
   "cell_type": "code",
   "execution_count": 5,
   "metadata": {},
   "outputs": [
    {
     "name": "stdout",
     "output_type": "stream",
     "text": [
      "('10.1080/21645515.2017.1330236', 'True')\n",
      "('10.1088/0004-6256/135/4/1201', 'True')\n"
     ]
    }
   ],
   "source": [
    "result_set = cursor.fetchall()\n",
    "for row in result_set:\n",
    "    print(row)"
   ]
  },
  {
   "cell_type": "code",
   "execution_count": 3,
   "metadata": {},
   "outputs": [],
   "source": [
    "sils_doi = ['10.1145/3173574.3173935',\n",
    "            '10.1108/ILS-06-2018-0049',\n",
    "            '10.1016/j.lisr.2017.03.001',\n",
    "            '10.1007/s10803-017-3127-z',\n",
    "            '10.1145/2854946.2854979',\n",
    "            '10.1016/j.envsoft.2015.12.010',\n",
    "            '10.1177%2F2053951715608877',\n",
    "            '10.2218/ijdc.v10i1.352',\n",
    "            '10.1145/3209624',\n",
    "            '10.1016/j.lisr.2017.03.005',\n",
    "            '10.1109/TVCG.2018.2864885',\n",
    "            '10.1177%2F016555150202800601',\n",
    "            '10.1109/TMM.2016.2614220',\n",
    "            '10.1353/at.2006.0012',\n",
    "            '10.1007/s10900-018-0547-4',\n",
    "            '10.1108/JD-03-2016-0030',\n",
    "            '10.1145/2998181.2998204',\n",
    "            '10.1145/3209280.3209530',\n",
    "            '10.1080/10447318.2017.1365459',\n",
    "            '10.1145/3204461',\n",
    "            '10.1002/asi.23124',\n",
    "            '10.1002/asi.23839',\n",
    "            '10.3389/fncom.2012.00019'\n",
    "            '10.5210/ojphi.v6i2.5469',\n",
    "            '10.1093/jamia/ocy013',\n",
    "            '10.1108/JD-06-2017-0095',\n",
    "            '10.1016/j.ijinfomgt.2018.07.004']"
   ]
  },
  {
   "cell_type": "code",
   "execution_count": 4,
   "metadata": {},
   "outputs": [
    {
     "name": "stdout",
     "output_type": "stream",
     "text": [
      "10.1145/3173574.3173935','10.1108/ILS-06-2018-0049','10.1016/j.lisr.2017.03.001','10.1007/s10803-017-3127-z','10.1145/2854946.2854979','10.1016/j.envsoft.2015.12.010','10.1177%2F2053951715608877','10.2218/ijdc.v10i1.352','10.1145/3209624','10.1016/j.lisr.2017.03.005','10.1109/TVCG.2018.2864885','10.1177%2F016555150202800601','10.1109/TMM.2016.2614220','10.1353/at.2006.0012','10.1007/s10900-018-0547-4','10.1108/JD-03-2016-0030','10.1145/2998181.2998204','10.1145/3209280.3209530','10.1080/10447318.2017.1365459','10.1145/3204461','10.1002/asi.23124','10.1002/asi.23839','10.3389/fncom.2012.0001910.5210/ojphi.v6i2.5469','10.1093/jamia/ocy013','10.1108/JD-06-2017-0095','10.1016/j.ijinfomgt.2018.07.004\n"
     ]
    }
   ],
   "source": [
    "str1 = '\\',\\''.join(sils_doi)\n",
    "print (str1)"
   ]
  },
  {
   "cell_type": "code",
   "execution_count": 44,
   "metadata": {},
   "outputs": [
    {
     "name": "stdout",
     "output_type": "stream",
     "text": [
      "SELECT doi, is_oa FROM Snapshot100 WHERE doi IN ('10.1145/3173574.3173935','10.1108/ILS-06-2018-0049','10.1016/j.lisr.2017.03.001','10.1007/s10803-017-3127-z','10.1145/2854946.2854979','10.1016/j.envsoft.2015.12.010','10.1177%2F2053951715608877','10.2218/ijdc.v10i1.352','10.1145/3209624','10.1016/j.lisr.2017.03.005','10.1109/TVCG.2018.2864885','10.1177%2F016555150202800601','10.1109/TMM.2016.2614220','10.1353/at.2006.0012','10.1007/s10900-018-0547-4','10.1108/JD-03-2016-0030','10.1145/2998181.2998204','10.1145/3209280.3209530','10.1080/10447318.2017.1365459','10.1145/3204461','10.1002/asi.23124','10.1002/asi.23839','10.3389/fncom.2012.0001910.5210/ojphi.v6i2.5469','10.1093/jamia/ocy013','10.1108/JD-06-2017-0095','10.1016/j.ijinfomgt.2018.07.004')\n"
     ]
    }
   ],
   "source": [
    "query = (\"SELECT doi, is_oa FROM Snapshot100 \"\n",
    "        \"WHERE doi IN (\\'{}\\')\").format(str1)\n",
    "print (query)\n",
    "cursor.execute(query)"
   ]
  },
  {
   "cell_type": "code",
   "execution_count": 5,
   "metadata": {},
   "outputs": [
    {
     "name": "stdout",
     "output_type": "stream",
     "text": [
      "Start Time: 2019-03-22 10:43:39.716006\n",
      "Finish Time: 2019-03-22 10:43:39.728706\n"
     ]
    }
   ],
   "source": [
    "print ('Start Time: ' + str(datetime.datetime.now()))\n",
    "query = (\"SELECT doi, is_oa FROM tmp \"\n",
    "        \"WHERE doi IN (\\'{}\\')\").format(str1)\n",
    "cursor.execute(query)\n",
    "print ('Finish Time: ' + str(datetime.datetime.now()))"
   ]
  },
  {
   "cell_type": "code",
   "execution_count": 6,
   "metadata": {},
   "outputs": [
    {
     "name": "stdout",
     "output_type": "stream",
     "text": [
      "('10.1002/asi.23124', 'False')\n",
      "('10.1002/asi.23839', 'True')\n",
      "('10.1007/s10803-017-3127-z', 'False')\n",
      "('10.1007/s10900-018-0547-4', 'False')\n",
      "('10.1016/j.envsoft.2015.12.010', 'True')\n",
      "('10.1016/j.ijinfomgt.2018.07.004', 'False')\n",
      "('10.1016/j.lisr.2017.03.001', 'False')\n",
      "('10.1016/j.lisr.2017.03.005', 'False')\n",
      "('10.1080/10447318.2017.1365459', 'False')\n",
      "('10.1093/jamia/ocy013', 'True')\n",
      "('10.1108/jd-03-2016-0030', 'False')\n",
      "('10.1108/jd-06-2017-0095', 'False')\n",
      "('10.1109/tmm.2016.2614220', 'True')\n",
      "('10.1109/tvcg.2018.2864885', 'False')\n",
      "('10.1145/2854946.2854979', 'True')\n",
      "('10.1145/2998181.2998204', 'False')\n",
      "('10.1145/3173574.3173935', 'True')\n",
      "('10.1145/3204461', 'False')\n",
      "('10.1353/at.2006.0012', 'False')\n",
      "('10.2218/ijdc.v10i1.352', 'True')\n"
     ]
    }
   ],
   "source": [
    "result_set = cursor.fetchall()\n",
    "for row in result_set:\n",
    "    print(row)"
   ]
  },
  {
   "cell_type": "code",
   "execution_count": null,
   "metadata": {},
   "outputs": [],
   "source": [
    "\n"
   ]
  }
 ],
 "metadata": {
  "kernelspec": {
   "display_name": "Python 3",
   "language": "python",
   "name": "python3"
  },
  "language_info": {
   "codemirror_mode": {
    "name": "ipython",
    "version": 3
   },
   "file_extension": ".py",
   "mimetype": "text/x-python",
   "name": "python",
   "nbconvert_exporter": "python",
   "pygments_lexer": "ipython3",
   "version": "3.7.1"
  }
 },
 "nbformat": 4,
 "nbformat_minor": 2
}
