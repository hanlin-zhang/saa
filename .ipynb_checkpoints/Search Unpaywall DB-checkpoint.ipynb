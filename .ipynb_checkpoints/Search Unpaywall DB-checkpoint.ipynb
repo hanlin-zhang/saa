{
 "cells": [
  {
   "cell_type": "code",
   "execution_count": 1,
   "metadata": {},
   "outputs": [],
   "source": [
    "# To install the official MySQL Connector for Python, please use the name mysql-connector-python:\n",
    "# pip install mysql-connector-python\n",
    "import mysql.connector\n",
    "import datetime\n",
    "import pandas as pd\n",
    "import numpy as np\n",
    "import urllib.request\n",
    "import json"
   ]
  },
  {
   "cell_type": "code",
   "execution_count": 2,
   "metadata": {},
   "outputs": [],
   "source": [
    "def load_data(file_name): \n",
    "    df = pd.read_csv(file_name)\n",
    "    df.doi = df.doi.str.lower()\n",
    "    return df"
   ]
  },
  {
   "cell_type": "code",
   "execution_count": 3,
   "metadata": {},
   "outputs": [],
   "source": [
    "def search_db(db_name, search_df): \n",
    "    cnx = mysql.connector.connect(user='scott', password='tiger',\n",
    "                                  host='127.0.0.1',\n",
    "                                  database=db_name,\n",
    "                                  use_pure=False)\n",
    "    cursor = cnx.cursor()\n",
    "    search_doi ='\\',\\''.join(search_df.doi)\n",
    "    query = (\"SELECT doi, is_oa FROM tmp WHERE doi IN (\\'{}\\')\").format(search_doi)\n",
    "    print (\"Executing query:\\n\" + query + \"\\n\")\n",
    "    cursor.execute(query)\n",
    "    result = {doi: 0 if is_oa == 'False' else 1 for (doi, is_oa) in cursor}\n",
    "    print(\"# of article found in upw db:{}\".format(len(result)))\n",
    "    return result"
   ]
  },
  {
   "cell_type": "code",
   "execution_count": 4,
   "metadata": {},
   "outputs": [],
   "source": [
    "def call_crossref_api(list_of_doi):\n",
    "    crossref_base = 'https://api.crossref.org/works/{}/agency'\n",
    "    resp, err = [], []\n",
    "    for doi in list_of_doi:\n",
    "        try:\n",
    "            with urllib.request.urlopen(crossref_base.format(doi)) as url:\n",
    "                resp.append(json.loads(url.read().decode()))\n",
    "        except (UnicodeEncodeError, urllib.error.HTTPError) as e:\n",
    "            err.append({doi : 'Code: {c}, Message, {m}'.format(c = type(e).__name__, m = str(e))})\n",
    "            continue\n",
    "    return resp, err"
   ]
  },
  {
   "cell_type": "code",
   "execution_count": 5,
   "metadata": {},
   "outputs": [],
   "source": [
    "def call_upw_api(list_of_doi):\n",
    "    upw_base = 'https://api.unpaywall.org/v2/{}?email=YOUR_EMAIL'\n",
    "    resp = []\n",
    "    for doi in list_of_doi:\n",
    "        with urllib.request.urlopen(upw_base.format(doi)) as url:\n",
    "            resp.append(json.loads(url.read().decode()))\n",
    "    return resp"
   ]
  },
  {
   "cell_type": "code",
   "execution_count": 6,
   "metadata": {
    "scrolled": true
   },
   "outputs": [],
   "source": [
    "def search_missing(input_df, upw_db_result):\n",
    "    diff = list(set(input_df.doi)-set(upw_db_result))\n",
    "    print('Missing doi:\\n{}'.format(diff))\n",
    "    # Searching missing doi with Crossref\n",
    "    crsref_resp, crsref_err = call_crossref_api(diff)\n",
    "    vaild_doi = [json['message']['DOI'] for json in crsref_resp]\n",
    "    print(\"# total missing doi: {}\".format(len(diff)))\n",
    "    print(\"# valid missing doi: {}\".format(len(vaild_doi)))\n",
    "    print(\"# of brocken missing doi: {}\".format(len(crsref_err)))\n",
    "    # Searching valid doi with Unpaywall API\n",
    "    upw_resp = call_upw_api(vaild_doi)\n",
    "    add_result = {json['doi']: 0 if json['is_oa'] != True else 1 for json in upw_resp}\n",
    "    return add_result"
   ]
  },
  {
   "cell_type": "code",
   "execution_count": 22,
   "metadata": {},
   "outputs": [],
   "source": [
    "def validate(vaild_df, query_df):\n",
    "    vaild_df.is_oa = vaild_df.is_oa.astype(bool) *1\n",
    "    query_df.upw_oa = query_df.upw_oa.astype(bool)*1\n",
    "    tmp = pd.merge(vaild_df[['doi', 'is_oa']], query_df, on='doi', how='left')\n",
    "    tmp['check'] = tmp.apply(lambda x : 0 if x['is_oa'] != x['upw_oa'] else 1, axis=1)\n",
    "    print(\"*\"*18 + \"OA Result Summary\" + \"*\"*20 +\"\\n\")\n",
    "    print(\"Google Scholar found # OA: {}\".format(tmp.is_oa.sum()))\n",
    "    print(\"Google Scholar NOT found # OA: {} \\n\".format(len(vaild_df) - tmp.is_oa.sum()))\n",
    "    print(\"Unpaywall found # OA: {}\".format(tmp.upw_oa.sum()))\n",
    "    print(\"Unpaywall NOT found # OA: {} \\n\".format(len(vaild_df) - tmp.upw_oa.sum()))\n",
    "    print(\"*\"*18 + \"End OA Result Summary\" + \"*\"*16)\n",
    "    return tmp"
   ]
  },
  {
   "cell_type": "markdown",
   "metadata": {},
   "source": [
    "### JASIST"
   ]
  },
  {
   "cell_type": "code",
   "execution_count": 8,
   "metadata": {},
   "outputs": [
    {
     "data": {
      "text/html": [
       "<div>\n",
       "<style scoped>\n",
       "    .dataframe tbody tr th:only-of-type {\n",
       "        vertical-align: middle;\n",
       "    }\n",
       "\n",
       "    .dataframe tbody tr th {\n",
       "        vertical-align: top;\n",
       "    }\n",
       "\n",
       "    .dataframe thead th {\n",
       "        text-align: right;\n",
       "    }\n",
       "</style>\n",
       "<table border=\"1\" class=\"dataframe\">\n",
       "  <thead>\n",
       "    <tr style=\"text-align: right;\">\n",
       "      <th></th>\n",
       "      <th>doi</th>\n",
       "      <th>title</th>\n",
       "      <th>author</th>\n",
       "      <th>year_published</th>\n",
       "      <th>jasist_vol_Issue</th>\n",
       "      <th>is_oa</th>\n",
       "    </tr>\n",
       "  </thead>\n",
       "  <tbody>\n",
       "    <tr>\n",
       "      <th>0</th>\n",
       "      <td>10.1002/asi.23863</td>\n",
       "      <td>Does it matter how you play? The effects of co...</td>\n",
       "      <td>Pe‐Than, E. P. P., Goh, D. H. L., &amp; Lee, C. S.</td>\n",
       "      <td>2017</td>\n",
       "      <td>Volume 68, Issue 8</td>\n",
       "      <td>0</td>\n",
       "    </tr>\n",
       "    <tr>\n",
       "      <th>1</th>\n",
       "      <td>10.1002/asi.23844</td>\n",
       "      <td>Using interactive “Nutrition labels” for finan...</td>\n",
       "      <td>Gunaratne, J., &amp; Nov, O.</td>\n",
       "      <td>2017</td>\n",
       "      <td>Volume 68, Issue 8</td>\n",
       "      <td>1</td>\n",
       "    </tr>\n",
       "    <tr>\n",
       "      <th>2</th>\n",
       "      <td>10.1002/asi.23820</td>\n",
       "      <td>The effects of credibility cues on the selecti...</td>\n",
       "      <td>Unkel, J., &amp; Haas, A.</td>\n",
       "      <td>2017</td>\n",
       "      <td>Volume 68, Issue 8</td>\n",
       "      <td>0</td>\n",
       "    </tr>\n",
       "    <tr>\n",
       "      <th>3</th>\n",
       "      <td>10.1002/asi.23861</td>\n",
       "      <td>Learning and adapting user criteria for recomm...</td>\n",
       "      <td>Tommasel, A., &amp; Godoy, D.</td>\n",
       "      <td>2017</td>\n",
       "      <td>Volume 68, Issue 8</td>\n",
       "      <td>0</td>\n",
       "    </tr>\n",
       "    <tr>\n",
       "      <th>4</th>\n",
       "      <td>10.1002/asi.23804</td>\n",
       "      <td>How does the world connect? Exploring the glob...</td>\n",
       "      <td>Larosiliere, G. D., Carter, L. D., &amp; Meske, C.</td>\n",
       "      <td>2017</td>\n",
       "      <td>Volume 68, Issue 8</td>\n",
       "      <td>1</td>\n",
       "    </tr>\n",
       "  </tbody>\n",
       "</table>\n",
       "</div>"
      ],
      "text/plain": [
       "                 doi                                              title  \\\n",
       "0  10.1002/asi.23863  Does it matter how you play? The effects of co...   \n",
       "1  10.1002/asi.23844  Using interactive “Nutrition labels” for finan...   \n",
       "2  10.1002/asi.23820  The effects of credibility cues on the selecti...   \n",
       "3  10.1002/asi.23861  Learning and adapting user criteria for recomm...   \n",
       "4  10.1002/asi.23804  How does the world connect? Exploring the glob...   \n",
       "\n",
       "                                           author  year_published  \\\n",
       "0  Pe‐Than, E. P. P., Goh, D. H. L., & Lee, C. S.            2017   \n",
       "1                        Gunaratne, J., & Nov, O.            2017   \n",
       "2                           Unkel, J., & Haas, A.            2017   \n",
       "3                       Tommasel, A., & Godoy, D.            2017   \n",
       "4  Larosiliere, G. D., Carter, L. D., & Meske, C.            2017   \n",
       "\n",
       "     jasist_vol_Issue  is_oa  \n",
       "0  Volume 68, Issue 8      0  \n",
       "1  Volume 68, Issue 8      1  \n",
       "2  Volume 68, Issue 8      0  \n",
       "3  Volume 68, Issue 8      0  \n",
       "4  Volume 68, Issue 8      1  "
      ]
     },
     "execution_count": 8,
     "metadata": {},
     "output_type": "execute_result"
    }
   ],
   "source": [
    "jasist = load_data('JASIST_sampler.csv')\n",
    "jasist.head()"
   ]
  },
  {
   "cell_type": "code",
   "execution_count": 9,
   "metadata": {},
   "outputs": [
    {
     "name": "stdout",
     "output_type": "stream",
     "text": [
      "Executing query:\n",
      "SELECT doi, is_oa FROM tmp WHERE doi IN ('10.1002/asi.23863','10.1002/asi.23844','10.1002/asi.23820','10.1002/asi.23861','10.1002/asi.23804','10.1002/asi.23872','10.1002/asi.23813','10.1002/asi.23837','10.1002/asi.23814','10.1002/asi.23838','10.1002/asi.23850','10.1002/asi.23821','10.1002/asi.23834','10.1002/asi.23815','10.1002/asi.23805','10.1002/asi.23862','10.1002/asi.23918','10.1002/asi.23919','10.1002/asi.23925','10.1002/asi.23915','10.1002/asi.23918')\n",
      "\n",
      "# of article found in upw db:19\n"
     ]
    }
   ],
   "source": [
    "upw_db_result = search_db('saa', jasist)"
   ]
  },
  {
   "cell_type": "code",
   "execution_count": 10,
   "metadata": {},
   "outputs": [
    {
     "name": "stdout",
     "output_type": "stream",
     "text": [
      "Missing doi:\n",
      "['10.1002/asi.23813']\n",
      "# total missing doi: 1\n",
      "# valid missing doi: 1\n",
      "# of brocken missing doi: 0\n"
     ]
    }
   ],
   "source": [
    "upw_add_result = search_missing(jasist, upw_db_result)\n",
    "upw_df = pd.DataFrame(list({**upw_db_result, **upw_add_result}.items()), columns=['doi','upw_oa'])"
   ]
  },
  {
   "cell_type": "code",
   "execution_count": 11,
   "metadata": {},
   "outputs": [
    {
     "name": "stdout",
     "output_type": "stream",
     "text": [
      "******************OA Result Summary********************\n",
      "\n",
      "Google Scholar found # OA: 12\n",
      "Google Scholar NOT found # OA: 9 \n",
      "\n",
      "Unpaywall found # OA: 11\n",
      "Unpaywall NOT found # OA: 10 \n",
      "\n",
      "******************End OA Result Summary****************\n"
     ]
    }
   ],
   "source": [
    "jasist_result = validate(jasist, upw_df)"
   ]
  },
  {
   "cell_type": "code",
   "execution_count": 12,
   "metadata": {},
   "outputs": [],
   "source": [
    "def check_diff(result_df):\n",
    "    mask = result_df.check == 0\n",
    "    tmp = result_df[['doi', 'is_oa', 'upw_oa']][mask]\n",
    "    print(tmp)"
   ]
  },
  {
   "cell_type": "code",
   "execution_count": 13,
   "metadata": {},
   "outputs": [
    {
     "name": "stdout",
     "output_type": "stream",
     "text": [
      "                  doi  is_oa  upw_oa\n",
      "1   10.1002/asi.23844      1       0\n",
      "4   10.1002/asi.23804      1       0\n",
      "7   10.1002/asi.23837      1       0\n",
      "12  10.1002/asi.23834      1       0\n",
      "16  10.1002/asi.23918      0       1\n",
      "19  10.1002/asi.23915      0       1\n",
      "20  10.1002/asi.23918      0       1\n"
     ]
    }
   ],
   "source": [
    "check_diff(jasist_result)"
   ]
  },
  {
   "cell_type": "markdown",
   "metadata": {},
   "source": [
    "### Han's 50 article sampler"
   ]
  },
  {
   "cell_type": "code",
   "execution_count": 14,
   "metadata": {},
   "outputs": [
    {
     "data": {
      "text/html": [
       "<div>\n",
       "<style scoped>\n",
       "    .dataframe tbody tr th:only-of-type {\n",
       "        vertical-align: middle;\n",
       "    }\n",
       "\n",
       "    .dataframe tbody tr th {\n",
       "        vertical-align: top;\n",
       "    }\n",
       "\n",
       "    .dataframe thead th {\n",
       "        text-align: right;\n",
       "    }\n",
       "</style>\n",
       "<table border=\"1\" class=\"dataframe\">\n",
       "  <thead>\n",
       "    <tr style=\"text-align: right;\">\n",
       "      <th></th>\n",
       "      <th>doi</th>\n",
       "      <th>title</th>\n",
       "      <th>author</th>\n",
       "      <th>year_published</th>\n",
       "      <th>field of study</th>\n",
       "      <th>is_oa</th>\n",
       "    </tr>\n",
       "  </thead>\n",
       "  <tbody>\n",
       "    <tr>\n",
       "      <th>0</th>\n",
       "      <td>10.3842/sigma.2012.016</td>\n",
       "      <td>Introduction to loop quantum cosmology\\n</td>\n",
       "      <td>Banerjee, K., Calcagni, G., &amp; Martín-Benito, M.</td>\n",
       "      <td>2010</td>\n",
       "      <td>Physics</td>\n",
       "      <td>1</td>\n",
       "    </tr>\n",
       "    <tr>\n",
       "      <th>1</th>\n",
       "      <td>10.1016/j.physrep.2012.01.001</td>\n",
       "      <td>Modified gravity and cosmology</td>\n",
       "      <td>Clifton, T., Ferreira, P. G., Padilla, A., &amp; S...</td>\n",
       "      <td>2012</td>\n",
       "      <td>Physics</td>\n",
       "      <td>1</td>\n",
       "    </tr>\n",
       "    <tr>\n",
       "      <th>2</th>\n",
       "      <td>10.1146/annurev-astro-081811-125615</td>\n",
       "      <td>Cosmic star-formation history</td>\n",
       "      <td>Madau, P., &amp; Dickinson, M.</td>\n",
       "      <td>2014</td>\n",
       "      <td>Physics</td>\n",
       "      <td>1</td>\n",
       "    </tr>\n",
       "    <tr>\n",
       "      <th>3</th>\n",
       "      <td>10.1016/j.physletb.2008.07.018</td>\n",
       "      <td>Review of Particle Physics\\n</td>\n",
       "      <td>C. Amsler, M. Doser, M. Antonelli, D. M. Asner...</td>\n",
       "      <td>2008</td>\n",
       "      <td>Physics</td>\n",
       "      <td>1</td>\n",
       "    </tr>\n",
       "    <tr>\n",
       "      <th>4</th>\n",
       "      <td>10.1126/science.1202043</td>\n",
       "      <td>Improved Learning in a Large-Enrollment Physic...</td>\n",
       "      <td>Deslauriers, L., Schelew, E., &amp; Wieman, C.</td>\n",
       "      <td>2011</td>\n",
       "      <td>Physics</td>\n",
       "      <td>1</td>\n",
       "    </tr>\n",
       "  </tbody>\n",
       "</table>\n",
       "</div>"
      ],
      "text/plain": [
       "                                   doi  \\\n",
       "0               10.3842/sigma.2012.016   \n",
       "1        10.1016/j.physrep.2012.01.001   \n",
       "2  10.1146/annurev-astro-081811-125615   \n",
       "3       10.1016/j.physletb.2008.07.018   \n",
       "4              10.1126/science.1202043   \n",
       "\n",
       "                                               title  \\\n",
       "0           Introduction to loop quantum cosmology\\n   \n",
       "1                     Modified gravity and cosmology   \n",
       "2                      Cosmic star-formation history   \n",
       "3                       Review of Particle Physics\\n   \n",
       "4  Improved Learning in a Large-Enrollment Physic...   \n",
       "\n",
       "                                              author  year_published  \\\n",
       "0    Banerjee, K., Calcagni, G., & Martín-Benito, M.            2010   \n",
       "1  Clifton, T., Ferreira, P. G., Padilla, A., & S...            2012   \n",
       "2                         Madau, P., & Dickinson, M.            2014   \n",
       "3  C. Amsler, M. Doser, M. Antonelli, D. M. Asner...            2008   \n",
       "4         Deslauriers, L., Schelew, E., & Wieman, C.            2011   \n",
       "\n",
       "  field of study  is_oa  \n",
       "0        Physics      1  \n",
       "1        Physics      1  \n",
       "2        Physics      1  \n",
       "3        Physics      1  \n",
       "4        Physics      1  "
      ]
     },
     "execution_count": 14,
     "metadata": {},
     "output_type": "execute_result"
    }
   ],
   "source": [
    "oa_sampler = load_data('oa_atricle_sampler.csv')\n",
    "oa_sampler.head()"
   ]
  },
  {
   "cell_type": "code",
   "execution_count": 15,
   "metadata": {},
   "outputs": [
    {
     "name": "stdout",
     "output_type": "stream",
     "text": [
      "Executing query:\n",
      "SELECT doi, is_oa FROM tmp WHERE doi IN ('10.3842/sigma.2012.016','10.1016/j.physrep.2012.01.001','10.1146/annurev-astro-081811-125615','10.1016/j.physletb.2008.07.018','10.1126/science.1202043','10.1140/epjc/s10052-016-4099-4','10.1016/j.aop.2005.04.002','10.1103/physrevlett.94.111601','10.1143/ptps.183.1','10.1143/ptp.113.843','10.1371/journal.pone.0064841','10.1108/jd-03-2016-0030','10.1007/s10900-018-0547-4','10.1016/j.ijinfomgt.2018.07.004','10.1016/j.lisr.2017.03.001','10.1016/j.lisr.2017.03.005','10.1002/asi.23124','10.1145/2998181.2998204','10.1108/jd-06-2017-0095','10.1080/10447318.2017.1365459','10.1177/1464884905056815','10.1177/1464884903004001484','10.1080/1461670x.2011.571825','10.1080/17512780802281065','10.1080/17512786.2012.667269','10.1207/s15506878jobem4604_3','10.1177/1461444809341393','10.1177/0016549205057564','10.1080/14616700500533643','10.1080/14616700118394','10.3390/ijerph14091002','10.1097/phh.0000000000000347','10.11604/pamj.supp.2017.27.1.12570','10.1093/pubmed/fdw130','10.24095/hpcdp.38.7/8.02','10.1016/j.puhe.2015.10.027','10.1016/j.epidem.2014.08.008','10.1186/s40504-018-0071-4','10.1111/j.1475-6773.2009.01011.x','10.1186/1471-2458-12-141','10.1145/505282.505283','10.3115/1118693.1118704','10.1145/330908.331819','10.1109/2.982917','10.1109/icse.2005.1553534','10.2753/mis0742-1222240302','10.1177/003172171309500111','10.1145/985692.985733','10.1109/policy.2004.1309145','10.1016/j.ejor.2009.08.003')\n",
      "\n",
      "# of article found in upw db:42\n"
     ]
    }
   ],
   "source": [
    "upw_db_result = search_db('saa', oa_sampler)"
   ]
  },
  {
   "cell_type": "code",
   "execution_count": 16,
   "metadata": {},
   "outputs": [
    {
     "name": "stdout",
     "output_type": "stream",
     "text": [
      "Missing doi:\n",
      "['10.1097/phh.0000000000000347', '10.1207/s15506878jobem4604_3', '10.1080/17512780802281065', '10.1103/physrevlett.94.111601', '10.1177/0016549205057564', '10.2753/mis0742-1222240302', '10.1016/j.physletb.2008.07.018', '10.1145/330908.331819']\n",
      "# total missing doi: 8\n",
      "# valid missing doi: 8\n",
      "# of brocken missing doi: 0\n"
     ]
    }
   ],
   "source": [
    "upw_add_result = search_missing(oa_sampler, upw_db_result)\n",
    "upw_df = pd.DataFrame(list({**upw_db_result, **upw_add_result}.items()), columns=['doi','upw_oa'])"
   ]
  },
  {
   "cell_type": "code",
   "execution_count": 19,
   "metadata": {},
   "outputs": [
    {
     "name": "stdout",
     "output_type": "stream",
     "text": [
      "******************OA Result Summary********************\n",
      "\n",
      "Google Scholar found # OA: 46\n",
      "Google Scholar NOT found # OA: 4 \n",
      "\n",
      "Unpaywall found # OA: 25\n",
      "Unpaywall NOT found # OA: 25 \n",
      "\n",
      "******************End OA Result Summary****************\n"
     ]
    }
   ],
   "source": [
    "oa_result = validate(oa_sampler, upw_df)"
   ]
  },
  {
   "cell_type": "code",
   "execution_count": 21,
   "metadata": {},
   "outputs": [
    {
     "name": "stdout",
     "output_type": "stream",
     "text": [
      "                               doi  is_oa  upw_oa\n",
      "3   10.1016/j.physletb.2008.07.018      1       0\n",
      "11         10.1108/jd-03-2016-0030      1       0\n",
      "12       10.1007/s10900-018-0547-4      1       0\n",
      "17         10.1145/2998181.2998204      1       0\n",
      "18         10.1108/jd-06-2017-0095      1       0\n",
      "19   10.1080/10447318.2017.1365459      1       0\n",
      "20        10.1177/1464884905056815      1       0\n",
      "21     10.1177/1464884903004001484      1       0\n",
      "24    10.1080/17512786.2012.667269      1       0\n",
      "25    10.1207/s15506878jobem4604_3      1       0\n",
      "27        10.1177/0016549205057564      1       0\n",
      "28       10.1080/14616700500533643      1       0\n",
      "29          10.1080/14616700118394      1       0\n",
      "33           10.1093/pubmed/fdw130      1       0\n",
      "34        10.24095/hpcdp.38.7/8.02      1       0\n",
      "42           10.1145/330908.331819      1       0\n",
      "43                10.1109/2.982917      1       0\n",
      "44       10.1109/icse.2005.1553534      1       0\n",
      "46      10.1177/003172171309500111      1       0\n",
      "48     10.1109/policy.2004.1309145      1       0\n",
      "49      10.1016/j.ejor.2009.08.003      1       0\n"
     ]
    }
   ],
   "source": [
    "check_diff(oa_result)"
   ]
  },
  {
   "cell_type": "code",
   "execution_count": null,
   "metadata": {},
   "outputs": [],
   "source": []
  },
  {
   "cell_type": "markdown",
   "metadata": {},
   "source": [
    "### Evaluation Matrix design:"
   ]
  },
  {
   "cell_type": "code",
   "execution_count": null,
   "metadata": {},
   "outputs": [],
   "source": [
    "TP = df_result[(df_result.check ==1)]\n",
    "len(TP)"
   ]
  },
  {
   "cell_type": "code",
   "execution_count": null,
   "metadata": {},
   "outputs": [],
   "source": [
    "FP = df_result[(df_result.check==0)]\n",
    "len(FP)"
   ]
  },
  {
   "cell_type": "code",
   "execution_count": null,
   "metadata": {},
   "outputs": [],
   "source": [
    "precision = len(TP)/len(df_result)\n",
    "precision"
   ]
  },
  {
   "cell_type": "code",
   "execution_count": null,
   "metadata": {},
   "outputs": [],
   "source": [
    "recall = len(TP)/ len(df_result[(df_result.is_oa ==1)])\n",
    "recall"
   ]
  },
  {
   "cell_type": "code",
   "execution_count": null,
   "metadata": {},
   "outputs": [],
   "source": [
    "len(df_result[(df_result.is_oa ==1)])"
   ]
  },
  {
   "cell_type": "markdown",
   "metadata": {},
   "source": [
    "# Below is Running time counts"
   ]
  },
  {
   "cell_type": "code",
   "execution_count": null,
   "metadata": {},
   "outputs": [],
   "source": [
    "print ('Start Time: ' + str(datetime.datetime.now()))\n",
    "query = (\"SELECT doi, is_oa FROM Full \"\n",
    "        \"WHERE doi IN ('10.1080/21645515.2017.1330236', '10.1088/0004-6256/135/4/1201')\")\n",
    "cursor.execute(query)\n",
    "print ('Finish Time: ' + str(datetime.datetime.now()))"
   ]
  },
  {
   "cell_type": "code",
   "execution_count": null,
   "metadata": {},
   "outputs": [],
   "source": [
    "result_set = cursor.fetchall()\n",
    "for row in result_set:\n",
    "    print(row)"
   ]
  },
  {
   "cell_type": "code",
   "execution_count": null,
   "metadata": {},
   "outputs": [],
   "source": [
    "sils_doi = ['10.1145/3173574.3173935',\n",
    "            '10.1108/ILS-06-2018-0049',\n",
    "            '10.1016/j.lisr.2017.03.001',\n",
    "            '10.1007/s10803-017-3127-z',\n",
    "            '10.1145/2854946.2854979',\n",
    "            '10.1016/j.envsoft.2015.12.010',\n",
    "            '10.1177%2F2053951715608877',\n",
    "            '10.2218/ijdc.v10i1.352',\n",
    "            '10.1145/3209624',\n",
    "            '10.1016/j.lisr.2017.03.005',\n",
    "            '10.1109/TVCG.2018.2864885',\n",
    "            '10.1177%2F016555150202800601',\n",
    "            '10.1109/TMM.2016.2614220',\n",
    "            '10.1353/at.2006.0012',\n",
    "            '10.1007/s10900-018-0547-4',\n",
    "            '10.1108/JD-03-2016-0030',\n",
    "            '10.1145/2998181.2998204',\n",
    "            '10.1145/3209280.3209530',\n",
    "            '10.1080/10447318.2017.1365459',\n",
    "            '10.1145/3204461',\n",
    "            '10.1002/asi.23124',\n",
    "            '10.1002/asi.23839',\n",
    "            '10.3389/fncom.2012.00019'\n",
    "            '10.5210/ojphi.v6i2.5469',\n",
    "            '10.1093/jamia/ocy013',\n",
    "            '10.1108/JD-06-2017-0095',\n",
    "            '10.1016/j.ijinfomgt.2018.07.004']"
   ]
  },
  {
   "cell_type": "code",
   "execution_count": null,
   "metadata": {},
   "outputs": [],
   "source": [
    "str1 = '\\',\\''.join(sils_doi)\n",
    "print (str1)"
   ]
  },
  {
   "cell_type": "code",
   "execution_count": null,
   "metadata": {},
   "outputs": [],
   "source": [
    "query = (\"SELECT doi, is_oa FROM Snapshot100 \"\n",
    "        \"WHERE doi IN (\\'{}\\')\").format(str1)\n",
    "print (query)\n",
    "cursor.execute(query)"
   ]
  },
  {
   "cell_type": "code",
   "execution_count": null,
   "metadata": {},
   "outputs": [],
   "source": [
    "print ('Start Time: ' + str(datetime.datetime.now()))\n",
    "query = (\"SELECT doi, is_oa FROM tmp \"\n",
    "        \"WHERE doi IN (\\'{}\\')\").format(str1)\n",
    "cursor.execute(query)\n",
    "print ('Finish Time: ' + str(datetime.datetime.now()))"
   ]
  },
  {
   "cell_type": "code",
   "execution_count": null,
   "metadata": {},
   "outputs": [],
   "source": [
    "result_set = cursor.fetchall()\n",
    "for row in result_set:\n",
    "    print(row)"
   ]
  },
  {
   "cell_type": "code",
   "execution_count": null,
   "metadata": {},
   "outputs": [],
   "source": [
    "\n"
   ]
  }
 ],
 "metadata": {
  "kernelspec": {
   "display_name": "Python 3",
   "language": "python",
   "name": "python3"
  },
  "language_info": {
   "codemirror_mode": {
    "name": "ipython",
    "version": 3
   },
   "file_extension": ".py",
   "mimetype": "text/x-python",
   "name": "python",
   "nbconvert_exporter": "python",
   "pygments_lexer": "ipython3",
   "version": "3.7.1"
  }
 },
 "nbformat": 4,
 "nbformat_minor": 2
}
